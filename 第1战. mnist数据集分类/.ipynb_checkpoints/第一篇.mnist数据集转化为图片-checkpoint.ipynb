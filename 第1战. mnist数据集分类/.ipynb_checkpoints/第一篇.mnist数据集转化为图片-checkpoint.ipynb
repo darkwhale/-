{
 "cells": [
  {
   "cell_type": "markdown",
   "metadata": {},
   "source": [
    "## mnist字体识别\n",
    "### 第1篇：mnist数据集转化为图片"
   ]
  },
  {
   "cell_type": "markdown",
   "metadata": {},
   "source": [
    "mnist数据集来自美国国家标准与技术研究所，是机器学习中的一个经典数据集，地位相当于编程语言学习中的“hello world“。在python的编程环境下，我们可以很简单地使用几行代码导入数据进行训练和测试，然而，我们希望能够对图片分类任务有更深入的了解，因此，尝试将数据集转化为图片，然后直接使用图片来进行识别和分类。\n",
    "\n",
    "---\n",
    "我们使用opencv实现图形的转换，首先，安装opencv图像处理库：  \n",
    "`pip install opencv-python`  \n",
    "然后在python环境下：  \n",
    "`>>>import cv2`  \n",
    "如果没有错误，则表示安装成功，可以进行图片的转化。\n",
    "\n",
    "---\n",
    "首先，导入头文件，使用keras加载数据集"
   ]
  },
  {
   "cell_type": "code",
   "execution_count": 2,
   "metadata": {},
   "outputs": [
    {
     "name": "stderr",
     "output_type": "stream",
     "text": [
      "Using TensorFlow backend.\n",
      "/usr/local/python3/lib/python3.7/importlib/_bootstrap.py:219: RuntimeWarning: compiletime version 3.6 of module 'tensorflow.python.framework.fast_tensor_util' does not match runtime version 3.7\n",
      "  return f(*args, **kwds)\n"
     ]
    }
   ],
   "source": [
    "import cv2\n",
    "import os\n",
    "from keras.datasets import mnist\n",
    "\n",
    "(x_train,y_train),(x_test,y_test) = mnist.load_data()"
   ]
  },
  {
   "cell_type": "markdown",
   "metadata": {},
   "source": [
    "运行完该命令后，会在当前用户下的.keras/datasets目录下下载mnist.npz文件，这样以后无论在任何位置都可以直接读取下载好的文件，而不用重新下载。  \n",
    "我们在dataset文件夹下新建10个文件夹，用于保存生成的图片。"
   ]
  },
  {
   "cell_type": "code",
   "execution_count": 3,
   "metadata": {},
   "outputs": [],
   "source": [
    "if not os.path.exists(\"dataset\"):\n",
    "    os.makedirs(\"dataset\")\n",
    "for i in range(10):\n",
    "    if not os.path.exists(os.path.join(\"dataset\",str(i))):\n",
    "        os.mkdir(os.path.join(\"dataset\",str(i)))"
   ]
  },
  {
   "cell_type": "markdown",
   "metadata": {},
   "source": [
    "调用opencv的imwrite函数即可保存文件："
   ]
  },
  {
   "cell_type": "code",
   "execution_count": 4,
   "metadata": {},
   "outputs": [],
   "source": [
    "index_list = [0]*10\n",
    "for i in range(x_train.shape[0]):\n",
    "    file_name = os.path.join(\"dataset\",str(y_train[i]),str(index_list[y_train[i]]) + '.bmp')\n",
    "    index_list[y_train[i]] += 1\n",
    "    cv2.imwrite(file_name,x_train[i])"
   ]
  },
  {
   "cell_type": "markdown",
   "metadata": {},
   "source": [
    "运行完后会将图片保存在dataset文件夹内，一共60000张图像，均为28\\*28的灰度图。  \n",
    "另外，可以使用同样的方法处理测试集的图片。  \n",
    "注意keras的mnist模块加载的数据格式和其他深度学习框架有些不同，例如我们运行下面的命令："
   ]
  },
  {
   "cell_type": "code",
   "execution_count": 5,
   "metadata": {},
   "outputs": [],
   "source": [
    "for i in range(x_test.shape[0]):\n",
    "    file_name = os.path.join(\"dataset\",str(y_test[i]),str(index_list[y_test[i]]) + '.bmp')\n",
    "    index_list[y_test[i]] += 1\n",
    "    cv2.imwrite(file_name,x_test[i])"
   ]
  },
  {
   "cell_type": "code",
   "execution_count": 6,
   "metadata": {},
   "outputs": [
    {
     "name": "stdout",
     "output_type": "stream",
     "text": [
      "(28, 28)\n"
     ]
    }
   ],
   "source": [
    "print(x_train[0].shape)"
   ]
  },
  {
   "cell_type": "markdown",
   "metadata": {},
   "source": [
    "tensorflow实现的模块导入的数据的shape为：784.当然，这些细节不必在意，只是在转化为图片和输入到网络的时候注意是否需要reshape即可。\n",
    "\n",
    "转换好的mnist图片地址：https://pan.baidu.com/s/1Pl4YhbxaMMd-9ViKynzOkw"
   ]
  }
 ],
 "metadata": {
  "kernelspec": {
   "display_name": "Python 3",
   "language": "python",
   "name": "python3"
  },
  "language_info": {
   "codemirror_mode": {
    "name": "ipython",
    "version": 3
   },
   "file_extension": ".py",
   "mimetype": "text/x-python",
   "name": "python",
   "nbconvert_exporter": "python",
   "pygments_lexer": "ipython3",
   "version": "3.7.1"
  }
 },
 "nbformat": 4,
 "nbformat_minor": 2
}
