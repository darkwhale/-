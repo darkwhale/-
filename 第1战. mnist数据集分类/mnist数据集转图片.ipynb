{
 "cells": [
  {
   "cell_type": "markdown",
   "metadata": {
    "collapsed": true
   },
   "source": [
    "## mnist字体识别\n",
    "### 第1篇：mnist数据集转化为图片\n",
    "mnist数据集来自美国国家标准与技术研究所，是机器学习中的一个经典数据集，地位相当于编程语言学习中的“hello world“。在python的编程环境下，我们可以很简单地使用几行代码导入数据进行训练和测试，然而，我们希望能够对图片分类任务有更深入的了解，因此，尝试将数据集转化为图片，然后直接使用图片来进行识别和分类。\n",
    "\n",
    "---\n",
    "我们使用opencv实现图形的转换，首先，安装opencv图像处理库：  \n",
    "`pip install opencv-python`  \n",
    "然后在python环境下：  \n",
    "`>>>import cv2`  \n",
    "如果没有错误，则表示安装成功，可以进行图片的转化。\n",
    "\n",
    "---\n",
    "首先，导入头文件，使用keras加载数据集"
   ]
  },
  {
   "cell_type": "code",
   "execution_count": null,
   "metadata": {},
   "outputs": [],
   "source": [
    "import cv2\n",
    "import os\n",
    "from keras.datasets import mnist\n",
    "\n",
    "(x_train,y_train),(x_test,y_test) = mnist.load_data()"
   ]
  },
  {
   "cell_type": "markdown",
   "metadata": {},
   "source": [
    "运行完该命令后，会在当前用户下的.keras/datasets目录下下载mnist.npz文件，这样以后无论在任何位置都可以直接读取下载好的文件，而不用重新下载。  \n",
    "我们在dataset文件夹下新建10个文件夹，用于保存生成的图片。"
   ]
  },
  {
   "cell_type": "code",
   "execution_count": null,
   "metadata": {},
   "outputs": [],
   "source": [
    "if not os.path.exists(\"dataset\"):\n",
    "    os.makedirs(\"dataset\")\n",
    "for i in range(10):\n",
    "    if not os.path.exists(os.path.join(\"dataset\",str(i))):\n",
    "        os.mkdir(os.path.join(\"dataset\",str(i)))"
   ]
  }
 ],
 "metadata": {
  "kernelspec": {
   "display_name": "Python 2",
   "language": "python",
   "name": "python2"
  },
  "language_info": {
   "codemirror_mode": {
    "name": "ipython",
    "version": 2
   },
   "file_extension": ".py",
   "mimetype": "text/x-python",
   "name": "python",
   "nbconvert_exporter": "python",
   "pygments_lexer": "ipython2",
   "version": "2.7.6"
  }
 },
 "nbformat": 4,
 "nbformat_minor": 0
}
